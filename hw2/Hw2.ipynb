{
 "cells": [
  {
   "cell_type": "code",
   "execution_count": 179,
   "id": "809e1cc5-d516-4460-a24c-8be053080085",
   "metadata": {},
   "outputs": [],
   "source": [
    "import matplotlib.pyplot as plt\n",
    "import numpy as np\n",
    "import random\n",
    "from sklearn import datasets\n",
    "from sklearn import tree\n",
    "from sklearn.model_selection import train_test_split, KFold\n",
    "import scipy\n"
   ]
  },
  {
   "cell_type": "code",
   "execution_count": 180,
   "id": "e8e82ad8-5692-404b-89d2-f91c34eba638",
   "metadata": {},
   "outputs": [
    {
     "name": "stdout",
     "output_type": "stream",
     "text": [
      "(1797, 8, 8)\n"
     ]
    }
   ],
   "source": [
    "digits = datasets.load_digits()\n",
    "print(digits.images.shape)"
   ]
  },
  {
   "cell_type": "code",
   "execution_count": 181,
   "id": "9a2b53e2-3c3d-4f5f-8758-951785028701",
   "metadata": {},
   "outputs": [],
   "source": [
    "X_train, X_test, y_train, y_test = train_test_split(digits.images, digits.target, test_size=0.1, shuffle=False)\n",
    "X_train = X_train.reshape(-1, 64)\n",
    "X_test  = X_test.reshape(-1, 64)"
   ]
  },
  {
   "cell_type": "code",
   "execution_count": 200,
   "id": "260b7018-7890-480d-816c-83e7d3873234",
   "metadata": {},
   "outputs": [],
   "source": [
    "def accuracy(model, x, y):\n",
    "    return (model.predict(x) == y).sum() / y.shape[0]\n",
    "    \n",
    "def train_test_model(model):\n",
    "    kfold = KFold(5, shuffle=True)\n",
    "    val_acc = []\n",
    "    train_acc = []\n",
    "    for train_index, test_index in kfold.split(X_train):\n",
    "        X_train_k, X_test_k = X_train[train_index], X_train[test_index]\n",
    "        y_train_k, y_test_k = y_train[train_index], y_train[test_index]\n",
    "\n",
    "        model.fit(X_train_k, y_train_k)\n",
    "        y_hat = dt.predict(X_test_k)\n",
    "        val_acc.append(accuracy(model, X_test_k, y_test_k))\n",
    "        train_acc.append(accuracy(model, X_train_k, y_train_k))\n",
    "    return sum(train_acc)/len(train_acc), sum(val_acc)/len(val_acc)\n"
   ]
  },
  {
   "cell_type": "markdown",
   "id": "296a4d49-d620-4deb-b7c0-babc978f3627",
   "metadata": {},
   "source": [
    "## Task 1 \n",
    "In this section we explore some different hyperparameters with the vanilla Classification Decision Tree. First we explore\n",
    "how the max_depth variable may affect overfitting. The first graph are the train/val accuracies (measured with k-fold cross validation) of the model for different max_depth settings. We see that fairly quickly that the train accuracy hits 100%. This would typically indicate overfitting as our validation accuracies paltue at an accuracy of 80%. However they do not fall off. This could be for a number of reasons such as our dataset being large enough that perphaps despite it completely fitting the train data it still must capture highly important features which result in the model generalizing very well. The other parameter we play with is the mean_leaf parameter which only allows leafs to be formed when they contain at least mean_leaf examples bucketed into them from the train data. This results in a decrease in the train accuracy. However the val accuarcy doesn't decrease, this indicates that the model had fit the data to a level that didn't result in superior preformance on unseen examples. "
   ]
  },
  {
   "cell_type": "code",
   "execution_count": 201,
   "id": "61e80bce-9668-48b2-8e5e-0451594ff0d8",
   "metadata": {},
   "outputs": [
    {
     "name": "stdout",
     "output_type": "stream",
     "text": [
      "(1.0, 0.8496942246684249)\n"
     ]
    }
   ],
   "source": [
    "#Testing default preformance\n",
    "dt = tree.DecisionTreeClassifier()\n",
    "score = train_test_model(dt)\n",
    "print(score)"
   ]
  },
  {
   "cell_type": "code",
   "execution_count": 202,
   "id": "c17f7464-ffdc-4dd3-9eb7-cc9130e57aa9",
   "metadata": {},
   "outputs": [
    {
     "data": {
      "text/plain": [
       "<BarContainer object of 15 artists>"
      ]
     },
     "execution_count": 202,
     "metadata": {},
     "output_type": "execute_result"
    },
    {
     "data": {
      "image/png": "[encoded data removed]",
      "text/plain": [
       "<Figure size 640x480 with 1 Axes>"
      ]
     },
     "metadata": {},
     "output_type": "display_data"
    }
   ],
   "source": [
    "RANGE = (5, 20)\n",
    "MAX_DEPTH_RANGE = [train_test_model(tree.DecisionTreeClassifier(max_depth=i))\n",
    "                           for i in range(*RANGE)]\n",
    "TRAIN = [item[0] for item in MAX_DEPTH_RANGE]\n",
    "TEST = [item[1] for item in MAX_DEPTH_RANGE]\n",
    "DEPTHS = np.array([i for i in range(*RANGE)])\n",
    "\n",
    "plt.bar(DEPTHS - 0.2, TRAIN, 0.4, label = 'Train Acc') \n",
    "plt.bar(DEPTHS + 0.2, TEST, 0.4, label = 'Test Acc') \n"
   ]
  },
  {
   "cell_type": "code",
   "execution_count": 203,
   "id": "321bf617-0a21-4966-bade-6e3479d6c555",
   "metadata": {},
   "outputs": [
    {
     "data": {
      "text/plain": [
       "<BarContainer object of 18 artists>"
      ]
     },
     "execution_count": 203,
     "metadata": {},
     "output_type": "execute_result"
    },
    {
     "data": {
      "image/png": "[encoded data removed]",
      "text/plain": [
       "<Figure size 640x480 with 1 Axes>"
      ]
     },
     "metadata": {},
     "output_type": "display_data"
    }
   ],
   "source": [
    "RANGE = (2, 20)\n",
    "MAX_DEPTH_RANGE = [train_test_model(tree.DecisionTreeClassifier(min_samples_leaf=i))\n",
    "                           for i in range(*RANGE)]\n",
    "TRAIN = [item[0] for item in MAX_DEPTH_RANGE]\n",
    "TEST = [item[1] for item in MAX_DEPTH_RANGE]\n",
    "DEPTHS = np.array([i for i in range(*RANGE)])\n",
    "\n",
    "plt.bar(DEPTHS - 0.2, TRAIN, 0.4, label = 'Train Acc') \n",
    "plt.bar(DEPTHS + 0.2, TEST, 0.4, label = 'Test Acc') \n"
   ]
  },
  {
   "cell_type": "markdown",
   "id": "61df556b-187d-4fc0-af76-fe3cf83ccb3b",
   "metadata": {},
   "source": [
    "## Task 2\n",
    "I have chose to implement Boostrapping for my bagging example and Gradient Boosint for my Boosting example. Both algorithms yield noticiably higher validation accuracy both by over 10%. With the default decision tree hitting an asymptote at a val accuracy of about 80% the bagging example has an accuracy of 93% and the boosing example hits an accuracy of 96%. Both also do not fully fit the train data as they both have test accuracies < 100. I reference this article for the generalization of gradient boosting to categorical classification from the binary case: https://python-bloggers.com/2023/10/gradient-boosting-multi-class-classification-from-scratch/"
   ]
  },
  {
   "cell_type": "code",
   "execution_count": 204,
   "id": "21227a84-0b32-4d39-9ac8-3dd4d73a982a",
   "metadata": {},
   "outputs": [],
   "source": [
    "def random_subset(x,y, length):\n",
    "    dset = [(x_i, y_i) for x_i, y_i in zip(x,y)]\n",
    "    random.shuffle(dset)\n",
    "    return dset[:length]"
   ]
  },
  {
   "cell_type": "code",
   "execution_count": 222,
   "id": "59b3feab-a414-487d-92ee-a0caa698542a",
   "metadata": {},
   "outputs": [],
   "source": [
    "class Bootstrapping:\n",
    "    def __init__(self, max_depth, num_models, subset_length, class_weight=None):\n",
    "        self.max_depth = max_depth\n",
    "        self.num_models = num_models\n",
    "        self.subset_length = subset_length\n",
    "        self.models = [tree.DecisionTreeClassifier(max_depth=max_depth, class_weight=class_weight) for _ in range(num_models)]\n",
    "    def fit(self, x,y):\n",
    "        for model in self.models:\n",
    "            dset = random_subset(x, y, self.subset_length)\n",
    "            x_ = [item[0] for item in dset]\n",
    "            y_ = [item[1] for item in dset]\n",
    "            model = model.fit(x_, y_)\n",
    "    def predict(self, x):\n",
    "        outputs = []\n",
    "        for model in self.models:\n",
    "            outputs.append(model.predict(x))\n",
    "        outputs = np.array(outputs)\n",
    "        return scipy.stats.mode(outputs)[0]\n",
    "        \n",
    "            "
   ]
  },
  {
   "cell_type": "code",
   "execution_count": 206,
   "id": "4019f6d8-bd91-4155-8e0d-2cc07957f3bf",
   "metadata": {},
   "outputs": [],
   "source": [
    "bagged = Bootstrapping(12, 20, 250)"
   ]
  },
  {
   "cell_type": "code",
   "execution_count": 215,
   "id": "393c39eb-fc8c-41f9-afd3-10d98f150b50",
   "metadata": {},
   "outputs": [
    {
     "data": {
      "text/plain": [
       "(0.9709333696721497, 0.9294996751137102)"
      ]
     },
     "execution_count": 215,
     "metadata": {},
     "output_type": "execute_result"
    }
   ],
   "source": [
    "train_test_model(bagged)"
   ]
  },
  {
   "cell_type": "code",
   "execution_count": 216,
   "id": "d28fbca7-1e31-49b9-b54a-153c5eda14e3",
   "metadata": {},
   "outputs": [],
   "source": [
    "class GradientBoosingClassifier():\n",
    "    \"\"\"\n",
    "    Gradient Boosing Classifier for a categorical classification\n",
    "    \"\"\"\n",
    "    def __init__(self, max_depth, num_models, class_num, lr):\n",
    "        self.models = []\n",
    "        self.max_depth = max_depth\n",
    "        self.num_models = num_models\n",
    "        self.class_num = class_num\n",
    "        self.lr = lr\n",
    "\n",
    "    def _one_hot_encoding(values, n_classes):\n",
    "        one_hot = np.zeros((values.shape[0], n_classes))\n",
    "        one_hot[np.arange(values.shape[0]), values] = 1\n",
    "        return one_hot\n",
    "\n",
    "    def _softmax(x):\n",
    "        \"\"\"\n",
    "        x.shape = [n, k] ; n=#examples, k = #classes\n",
    "        \"\"\"\n",
    "        return np.exp(x)/(np.exp(x).sum(axis=1, keepdims=True))\n",
    "\n",
    "    def _residual(current_predictions, y):\n",
    "        return y - GradientBoosingClassifier._softmax(current_predictions)\n",
    "    \n",
    "    def fit(self, x,y):\n",
    "        y = GradientBoosingClassifier._one_hot_encoding(y, self.class_num)\n",
    "        current_predictions = np.zeros(y.shape)\n",
    "        for n in range(self.num_models):\n",
    "            k_class_trees = []\n",
    "            residuals = GradientBoosingClassifier._residual(current_predictions, y)\n",
    "            #predict the residual for each class\n",
    "            for k in range(self.class_num):\n",
    "                dt = tree.DecisionTreeRegressor(max_depth=self.max_depth)\n",
    "                dt.fit(x, residuals[:, k])\n",
    "                current_predictions[:, k] += self.lr * dt.predict(x)\n",
    "                k_class_trees.append(dt)\n",
    "                \n",
    "            self.models.append(k_class_trees)\n",
    "            \n",
    "    def predict(self, x):\n",
    "        current_predictions = np.zeros((x.shape[0], self.class_num))\n",
    "        for model in self.models:\n",
    "            for k in range(self.class_num):\n",
    "                current_predictions[:, k] += self.lr * model[k].predict(x)\n",
    "        return np.argmax(current_predictions, axis=1)\n",
    "        \n",
    "        \n",
    "                \n",
    "                \n",
    "        \n",
    "        "
   ]
  },
  {
   "cell_type": "code",
   "execution_count": 218,
   "id": "6cf2b0fd-b608-4fe8-b02e-9f5f1d3cd31d",
   "metadata": {},
   "outputs": [
    {
     "data": {
      "text/plain": [
       "(0.9856211845736944, 0.967257195275771)"
      ]
     },
     "execution_count": 218,
     "metadata": {},
     "output_type": "execute_result"
    }
   ],
   "source": [
    "grad_boost = GradientBoosingClassifier(max_depth=4, num_models=8, class_num=10, lr=0.5)\n",
    "train_test_model(grad_boost)"
   ]
  },
  {
   "cell_type": "markdown",
   "id": "c279d143-442f-4a3c-84b4-4081382dca5a",
   "metadata": {},
   "source": [
    "## Task 3\n",
    "Both ensemble methods clearly demonstrate lower variance models which also end up having significantly more accuracy on the validation set. The val accuracy vs train accuracy split in the gradient boosting example is around 2% and around 5% for bagging. This is far lower than the vanilla decision tree's 20% as shown earlier. The gradient boosing algorithm performs the best out of the three however there still is room for improvement for all three models as none of them had a proper hyper-parameter search applied to them. The overall accuracy of the model serves as a good metric as each class has about the same number of examples in the dataset. In the case of digit recognition we also do not weight the accuracy of one class over another they are all equally important when it comes to the task of digit recognition it would be useless if our model was really good at classifying 7's and not so much for 0's. However if my dataset was medical data and the class 0 and 1 were serious illness's which where false negative could be deadly I would follow different guiding metric such as recall on the first two classes, which gives the precentage of positive examples which we correctly classified. This would also result in training a model with higher weights on those classes. In the example below I attempt to show how recall changes when we add a weight of 100000x the other classes on the first class, when training with bagging. Unfortunately the weigh"
   ]
  },
  {
   "cell_type": "code",
   "execution_count": 219,
   "id": "da171c30-b0ab-4ef2-819f-b401b8be7fef",
   "metadata": {},
   "outputs": [
    {
     "data": {
      "text/plain": [
       "<BarContainer object of 10 artists>"
      ]
     },
     "execution_count": 219,
     "metadata": {},
     "output_type": "execute_result"
    },
    {
     "data": {
      "image/png": "[encoded data removed]",
      "text/plain": [
       "<Figure size 640x480 with 1 Axes>"
      ]
     },
     "metadata": {},
     "output_type": "display_data"
    }
   ],
   "source": [
    "train_class_freq = [(y_train==i).sum()/y_train.shape[0] for i in range(10)]\n",
    "classes = [i for i in range(10)]\n",
    "plt.bar(classes, train_class_freq, 0.4, label = 'Train Class Precentages') "
   ]
  },
  {
   "cell_type": "code",
   "execution_count": 226,
   "id": "5965ae78-fce8-4a3c-98d7-28685e52d9c9",
   "metadata": {},
   "outputs": [],
   "source": [
    "def recall_class0(model, x, y):\n",
    "    y_hat = model.predict(x)\n",
    "    true_positive = ((y_hat==0) & (y==0)).sum()\n",
    "    false_negative = ((y_hat!=0) & (y==0)).sum()\n",
    "    return true_positive/(true_positive+false_negative)\n",
    "    \n",
    "def train_test_model_recall(model):\n",
    "    kfold = KFold(5, shuffle=True)\n",
    "    val_acc = []\n",
    "    train_acc = []\n",
    "    for train_index, test_index in kfold.split(X_train):\n",
    "        X_train_k, X_test_k = X_train[train_index], X_train[test_index]\n",
    "        y_train_k, y_test_k = y_train[train_index], y_train[test_index]\n",
    "\n",
    "        model.fit(X_train_k, y_train_k)\n",
    "        y_hat = dt.predict(X_test_k)\n",
    "        val_acc.append(recall_class0(model, X_test_k, y_test_k))\n",
    "        train_acc.append(recall_class0(model, X_train_k, y_train_k))\n",
    "    return sum(train_acc)/len(train_acc), sum(val_acc)/len(val_acc)\n"
   ]
  },
  {
   "cell_type": "code",
   "execution_count": 272,
   "id": "8e163531-4f01-4474-b734-ec6d43f92f8c",
   "metadata": {},
   "outputs": [
    {
     "name": "stdout",
     "output_type": "stream",
     "text": [
      "(0.9923963003352316, 0.9874877810361682)\n",
      "(0.9984496124031008, 0.9868817204301076)\n"
     ]
    }
   ],
   "source": [
    "weights = {i:1/100 for i in range(10)}\n",
    "weights[0] = 10000000\n",
    "bagged_w = Bootstrapping(12, 20, 250, class_weight=weights)\n",
    "print(train_test_model_recall(bagged_w))\n",
    "bagged = Bootstrapping(12, 20, 250)\n",
    "print(train_test_model_recall(bagged))\n"
   ]
  },
  {
   "cell_type": "code",
   "execution_count": null,
   "id": "42be5df9-9a0d-492c-b39d-c2359db5bf48",
   "metadata": {},
   "outputs": [],
   "source": []
  },
  {
   "cell_type": "code",
   "execution_count": null,
   "id": "add3acd2-e647-42a5-9aa8-bdfd31abc928",
   "metadata": {},
   "outputs": [],
   "source": []
  }
 ],
 "metadata": {
  "kernelspec": {
   "display_name": "Python 3 (ipykernel)",
   "language": "python",
   "name": "python3"
  },
  "language_info": {
   "codemirror_mode": {
    "name": "ipython",
    "version": 3
   },
   "file_extension": ".py",
   "mimetype": "text/x-python",
   "name": "python",
   "nbconvert_exporter": "python",
   "pygments_lexer": "ipython3",
   "version": "3.10.12"
  }
 },
 "nbformat": 4,
 "nbformat_minor": 5
}
